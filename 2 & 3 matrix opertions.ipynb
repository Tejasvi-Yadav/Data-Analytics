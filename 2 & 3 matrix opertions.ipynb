{
 "cells": [
  {
   "cell_type": "markdown",
   "id": "2be01f30",
   "metadata": {},
   "source": [
    "# creation of matrix"
   ]
  },
  {
   "cell_type": "code",
   "execution_count": 1,
   "id": "d77211ce",
   "metadata": {},
   "outputs": [],
   "source": [
    "import numpy as np # for array\n",
    "import matplotlib.pyplot as plt"
   ]
  },
  {
   "cell_type": "code",
   "execution_count": 2,
   "id": "15133fae",
   "metadata": {},
   "outputs": [
    {
     "data": {
      "text/plain": [
       "array([[3, 4],\n",
       "       [2, 8],\n",
       "       [1, 9]])"
      ]
     },
     "execution_count": 2,
     "metadata": {},
     "output_type": "execute_result"
    }
   ],
   "source": [
    "M=np.array([[3,4],[2,8],[1,9]])\n",
    "M "
   ]
  },
  {
   "cell_type": "code",
   "execution_count": 3,
   "id": "feb68af8",
   "metadata": {},
   "outputs": [
    {
     "data": {
      "text/plain": [
       "(3, 2)"
      ]
     },
     "execution_count": 3,
     "metadata": {},
     "output_type": "execute_result"
    }
   ],
   "source": [
    "M.shape"
   ]
  },
  {
   "cell_type": "code",
   "execution_count": 4,
   "id": "4ce0326e",
   "metadata": {},
   "outputs": [
    {
     "data": {
      "text/plain": [
       "1"
      ]
     },
     "execution_count": 4,
     "metadata": {},
     "output_type": "execute_result"
    }
   ],
   "source": [
    "M.min()"
   ]
  },
  {
   "cell_type": "code",
   "execution_count": 5,
   "id": "67223e77",
   "metadata": {},
   "outputs": [
    {
     "data": {
      "text/plain": [
       "6"
      ]
     },
     "execution_count": 5,
     "metadata": {},
     "output_type": "execute_result"
    }
   ],
   "source": [
    "M.size"
   ]
  },
  {
   "cell_type": "code",
   "execution_count": 6,
   "id": "fdcb36ed",
   "metadata": {},
   "outputs": [
    {
     "data": {
      "text/plain": [
       "numpy.ndarray"
      ]
     },
     "execution_count": 6,
     "metadata": {},
     "output_type": "execute_result"
    }
   ],
   "source": [
    "type(M)"
   ]
  },
  {
   "cell_type": "code",
   "execution_count": 7,
   "id": "78bac2b5",
   "metadata": {},
   "outputs": [],
   "source": [
    "v = np.array([4,6,5,3,1,7,6,3])"
   ]
  },
  {
   "cell_type": "code",
   "execution_count": 8,
   "id": "b6a68c1c",
   "metadata": {},
   "outputs": [
    {
     "data": {
      "text/plain": [
       "8"
      ]
     },
     "execution_count": 8,
     "metadata": {},
     "output_type": "execute_result"
    }
   ],
   "source": [
    "v.size"
   ]
  },
  {
   "cell_type": "code",
   "execution_count": 9,
   "id": "1c2e4fa8",
   "metadata": {},
   "outputs": [
    {
     "data": {
      "text/plain": [
       "array([[4, 6],\n",
       "       [5, 3],\n",
       "       [1, 7],\n",
       "       [6, 3]])"
      ]
     },
     "execution_count": 9,
     "metadata": {},
     "output_type": "execute_result"
    }
   ],
   "source": [
    "v.reshape(4,2)"
   ]
  },
  {
   "cell_type": "code",
   "execution_count": 10,
   "id": "545ee135",
   "metadata": {},
   "outputs": [
    {
     "data": {
      "text/plain": [
       "array([[4, 6, 5, 3],\n",
       "       [1, 7, 6, 3]])"
      ]
     },
     "execution_count": 10,
     "metadata": {},
     "output_type": "execute_result"
    }
   ],
   "source": [
    "v.reshape(2,4)"
   ]
  },
  {
   "cell_type": "code",
   "execution_count": 11,
   "id": "b31e1a6c",
   "metadata": {},
   "outputs": [
    {
     "data": {
      "text/plain": [
       "array([[4, 6, 5, 3, 1, 7, 6, 3]])"
      ]
     },
     "execution_count": 11,
     "metadata": {},
     "output_type": "execute_result"
    }
   ],
   "source": [
    "v.reshape(1,8)"
   ]
  },
  {
   "cell_type": "code",
   "execution_count": 12,
   "id": "8504c893",
   "metadata": {},
   "outputs": [
    {
     "data": {
      "text/plain": [
       "array([[4],\n",
       "       [6],\n",
       "       [5],\n",
       "       [3],\n",
       "       [1],\n",
       "       [7],\n",
       "       [6],\n",
       "       [3]])"
      ]
     },
     "execution_count": 12,
     "metadata": {},
     "output_type": "execute_result"
    }
   ],
   "source": [
    "v.reshape(8,1)"
   ]
  },
  {
   "cell_type": "code",
   "execution_count": 13,
   "id": "acddac63",
   "metadata": {},
   "outputs": [
    {
     "ename": "ValueError",
     "evalue": "cannot reshape array of size 8 into shape (3,3)",
     "output_type": "error",
     "traceback": [
      "\u001b[1;31m---------------------------------------------------------------------------\u001b[0m",
      "\u001b[1;31mValueError\u001b[0m                                Traceback (most recent call last)",
      "Cell \u001b[1;32mIn[13], line 1\u001b[0m\n\u001b[1;32m----> 1\u001b[0m v\u001b[38;5;241m.\u001b[39mreshape(\u001b[38;5;241m3\u001b[39m,\u001b[38;5;241m3\u001b[39m)\n",
      "\u001b[1;31mValueError\u001b[0m: cannot reshape array of size 8 into shape (3,3)"
     ]
    }
   ],
   "source": [
    "v.reshape(3,3)"
   ]
  },
  {
   "cell_type": "code",
   "execution_count": 14,
   "id": "b2ff57c5",
   "metadata": {},
   "outputs": [
    {
     "data": {
      "text/plain": [
       "dtype('int32')"
      ]
     },
     "execution_count": 14,
     "metadata": {},
     "output_type": "execute_result"
    }
   ],
   "source": [
    "M.dtype"
   ]
  },
  {
   "cell_type": "code",
   "execution_count": 15,
   "id": "eb41182b",
   "metadata": {},
   "outputs": [
    {
     "data": {
      "text/plain": [
       "array([[3, 4],\n",
       "       [2, 8],\n",
       "       [1, 9]], dtype=int8)"
      ]
     },
     "execution_count": 15,
     "metadata": {},
     "output_type": "execute_result"
    }
   ],
   "source": [
    "M=np.array([[3,4],[2,8],[1,9]] , dtype=np.int8)\n",
    "M"
   ]
  },
  {
   "cell_type": "code",
   "execution_count": 16,
   "id": "ee6c3294",
   "metadata": {},
   "outputs": [
    {
     "data": {
      "text/plain": [
       "array([[3, 4, 8, 0],\n",
       "       [2, 8, 1, 3],\n",
       "       [1, 9, 5, 6]], dtype=int8)"
      ]
     },
     "execution_count": 16,
     "metadata": {},
     "output_type": "execute_result"
    }
   ],
   "source": [
    "M=np.array([[3,4,8,0],[2,8,1,3],[1,9,5,6]] , dtype=np.int8)\n",
    "M"
   ]
  },
  {
   "cell_type": "code",
   "execution_count": 17,
   "id": "dbfe22e7",
   "metadata": {},
   "outputs": [
    {
     "data": {
      "text/plain": [
       "array([3, 4, 8, 0, 2, 8, 1, 3, 1, 9, 5, 6], dtype=int8)"
      ]
     },
     "execution_count": 17,
     "metadata": {},
     "output_type": "execute_result"
    }
   ],
   "source": [
    "M.flatten() # return a copy of an array into one dimention"
   ]
  },
  {
   "cell_type": "code",
   "execution_count": 18,
   "id": "0e867353",
   "metadata": {},
   "outputs": [
    {
     "data": {
      "text/plain": [
       "array([[3, 4, 8],\n",
       "       [0, 2, 8],\n",
       "       [1, 3, 1],\n",
       "       [9, 5, 6]], dtype=int8)"
      ]
     },
     "execution_count": 18,
     "metadata": {},
     "output_type": "execute_result"
    }
   ],
   "source": [
    "M.reshape(-1,3)"
   ]
  },
  {
   "cell_type": "code",
   "execution_count": 19,
   "id": "90f8f35a",
   "metadata": {},
   "outputs": [
    {
     "data": {
      "text/plain": [
       "array([[3, 4, 8, 0],\n",
       "       [2, 8, 1, 3],\n",
       "       [1, 9, 5, 6]], dtype=int8)"
      ]
     },
     "execution_count": 19,
     "metadata": {},
     "output_type": "execute_result"
    }
   ],
   "source": [
    "M.reshape(3,-1)"
   ]
  },
  {
   "cell_type": "code",
   "execution_count": 20,
   "id": "90edb7ac",
   "metadata": {},
   "outputs": [
    {
     "data": {
      "text/plain": [
       "array([[3, 4],\n",
       "       [8, 0],\n",
       "       [2, 8],\n",
       "       [1, 3],\n",
       "       [1, 9],\n",
       "       [5, 6]], dtype=int8)"
      ]
     },
     "execution_count": 20,
     "metadata": {},
     "output_type": "execute_result"
    }
   ],
   "source": [
    "M.reshape(-1,2)"
   ]
  },
  {
   "cell_type": "code",
   "execution_count": 21,
   "id": "4b1a8a64",
   "metadata": {},
   "outputs": [
    {
     "data": {
      "text/plain": [
       "array([3, 4, 8, 0, 2, 8, 1, 3, 1, 9, 5, 6], dtype=int8)"
      ]
     },
     "execution_count": 21,
     "metadata": {},
     "output_type": "execute_result"
    }
   ],
   "source": [
    "M.reshape(-1)"
   ]
  },
  {
   "cell_type": "code",
   "execution_count": 22,
   "id": "57154519",
   "metadata": {},
   "outputs": [],
   "source": [
    "# help(M.sort)"
   ]
  },
  {
   "cell_type": "code",
   "execution_count": 23,
   "id": "d2d8c776",
   "metadata": {},
   "outputs": [
    {
     "data": {
      "text/plain": [
       "array([[3, 4, 8, 0],\n",
       "       [2, 8, 1, 3],\n",
       "       [1, 9, 5, 6]], dtype=int8)"
      ]
     },
     "execution_count": 23,
     "metadata": {},
     "output_type": "execute_result"
    }
   ],
   "source": [
    "M"
   ]
  },
  {
   "cell_type": "code",
   "execution_count": 24,
   "id": "1181ac8f",
   "metadata": {},
   "outputs": [
    {
     "data": {
      "text/plain": [
       "1"
      ]
     },
     "execution_count": 24,
     "metadata": {},
     "output_type": "execute_result"
    }
   ],
   "source": [
    "M[1][2]"
   ]
  },
  {
   "cell_type": "code",
   "execution_count": 25,
   "id": "f8ecfc02",
   "metadata": {},
   "outputs": [
    {
     "name": "stdout",
     "output_type": "stream",
     "text": [
      "[3 4 8 0]\n",
      "[2 8 1 3]\n",
      "[1 9 5 6]\n"
     ]
    }
   ],
   "source": [
    "for row in M:\n",
    "    print(row)"
   ]
  },
  {
   "cell_type": "code",
   "execution_count": 26,
   "id": "c76ab970",
   "metadata": {},
   "outputs": [
    {
     "name": "stdout",
     "output_type": "stream",
     "text": [
      "3 4 8 0 \n",
      "2 8 1 3 \n",
      "1 9 5 6 \n"
     ]
    }
   ],
   "source": [
    "for row in M:\n",
    "    for value in row:\n",
    "        print(value,end=' ')\n",
    "    print()"
   ]
  },
  {
   "cell_type": "code",
   "execution_count": 27,
   "id": "d6436c70",
   "metadata": {},
   "outputs": [
    {
     "name": "stdout",
     "output_type": "stream",
     "text": [
      "3 4 8 0\n",
      "2 8 1 3\n",
      "1 9 5 6\n"
     ]
    }
   ],
   "source": [
    "for row in M:\n",
    "    print(*row)"
   ]
  },
  {
   "cell_type": "markdown",
   "id": "5c418d9c",
   "metadata": {},
   "source": [
    "# Addition"
   ]
  },
  {
   "cell_type": "code",
   "execution_count": 28,
   "id": "267f0594",
   "metadata": {},
   "outputs": [],
   "source": [
    "M1=np.array([[4,5,6],[2,1,9],[0,2,8]])\n",
    "M2=np.array([[2,5,7],[0,8,7],[6,4,3]])"
   ]
  },
  {
   "cell_type": "code",
   "execution_count": 29,
   "id": "0f9bcfb3",
   "metadata": {},
   "outputs": [],
   "source": [
    "M3=M1+M2"
   ]
  },
  {
   "cell_type": "code",
   "execution_count": 30,
   "id": "12978c07",
   "metadata": {},
   "outputs": [
    {
     "data": {
      "text/plain": [
       "array([[ 6, 10, 13],\n",
       "       [ 2,  9, 16],\n",
       "       [ 6,  6, 11]])"
      ]
     },
     "execution_count": 30,
     "metadata": {},
     "output_type": "execute_result"
    }
   ],
   "source": [
    "M3"
   ]
  },
  {
   "cell_type": "code",
   "execution_count": 31,
   "id": "c3971e0d",
   "metadata": {},
   "outputs": [
    {
     "data": {
      "text/plain": [
       "array([[ 2,  0, -1],\n",
       "       [ 2, -7,  2],\n",
       "       [-6, -2,  5]])"
      ]
     },
     "execution_count": 31,
     "metadata": {},
     "output_type": "execute_result"
    }
   ],
   "source": [
    "M3=M1-M2\n",
    "M3"
   ]
  },
  {
   "cell_type": "code",
   "execution_count": 32,
   "id": "4c9c8536",
   "metadata": {},
   "outputs": [
    {
     "data": {
      "text/plain": [
       "array([[ 8, 25, 42],\n",
       "       [ 0,  8, 63],\n",
       "       [ 0,  8, 24]])"
      ]
     },
     "execution_count": 32,
     "metadata": {},
     "output_type": "execute_result"
    }
   ],
   "source": [
    "M3=M1*M2\n",
    "M3"
   ]
  },
  {
   "cell_type": "markdown",
   "id": "72331e85",
   "metadata": {},
   "source": [
    "# scalar multiplication"
   ]
  },
  {
   "cell_type": "code",
   "execution_count": 33,
   "id": "84be8e23",
   "metadata": {
    "scrolled": true
   },
   "outputs": [
    {
     "data": {
      "text/plain": [
       "(array([[4, 5, 6],\n",
       "        [2, 1, 9],\n",
       "        [0, 2, 8]]),\n",
       " array([[ 4, 10, 14],\n",
       "        [ 0, 16, 14],\n",
       "        [12,  8,  6]]))"
      ]
     },
     "execution_count": 33,
     "metadata": {},
     "output_type": "execute_result"
    }
   ],
   "source": [
    "M1,M2*2"
   ]
  },
  {
   "cell_type": "code",
   "execution_count": 34,
   "id": "75e9f67a",
   "metadata": {},
   "outputs": [
    {
     "data": {
      "text/plain": [
       "array([[14, 15, 16],\n",
       "       [12, 11, 19],\n",
       "       [10, 12, 18]])"
      ]
     },
     "execution_count": 34,
     "metadata": {},
     "output_type": "execute_result"
    }
   ],
   "source": [
    "M1+10"
   ]
  },
  {
   "cell_type": "code",
   "execution_count": 35,
   "id": "6ab2394d",
   "metadata": {},
   "outputs": [],
   "source": [
    "M3=2 * (M1+M2)"
   ]
  },
  {
   "cell_type": "code",
   "execution_count": 36,
   "id": "8bdd5c4f",
   "metadata": {},
   "outputs": [],
   "source": [
    "M4=2 * M1+ 2 * M2"
   ]
  },
  {
   "cell_type": "code",
   "execution_count": 37,
   "id": "614e1347",
   "metadata": {},
   "outputs": [
    {
     "data": {
      "text/plain": [
       "(array([[12, 20, 26],\n",
       "        [ 4, 18, 32],\n",
       "        [12, 12, 22]]),\n",
       " array([[12, 20, 26],\n",
       "        [ 4, 18, 32],\n",
       "        [12, 12, 22]]))"
      ]
     },
     "execution_count": 37,
     "metadata": {},
     "output_type": "execute_result"
    }
   ],
   "source": [
    "M3,M4"
   ]
  },
  {
   "cell_type": "code",
   "execution_count": 38,
   "id": "d94bcebe",
   "metadata": {},
   "outputs": [
    {
     "data": {
      "text/plain": [
       "array([[12, 15, 18],\n",
       "       [ 6,  3, 27],\n",
       "       [ 0,  6, 24]])"
      ]
     },
     "execution_count": 38,
     "metadata": {},
     "output_type": "execute_result"
    }
   ],
   "source": [
    "M1 * (2+1)   #[[4,5,6],[2,1,9],[0,2,8]]"
   ]
  },
  {
   "cell_type": "code",
   "execution_count": 39,
   "id": "a635e1e0",
   "metadata": {},
   "outputs": [
    {
     "data": {
      "text/plain": [
       "array([[12, 15, 18],\n",
       "       [ 6,  3, 27],\n",
       "       [ 0,  6, 24]])"
      ]
     },
     "execution_count": 39,
     "metadata": {},
     "output_type": "execute_result"
    }
   ],
   "source": [
    "M1 * 2 + M1 *1"
   ]
  },
  {
   "cell_type": "code",
   "execution_count": 40,
   "id": "88bed018",
   "metadata": {},
   "outputs": [
    {
     "data": {
      "text/plain": [
       "array([[4, 5, 6],\n",
       "       [2, 1, 9],\n",
       "       [0, 2, 8]])"
      ]
     },
     "execution_count": 40,
     "metadata": {},
     "output_type": "execute_result"
    }
   ],
   "source": [
    "1 * M1"
   ]
  },
  {
   "cell_type": "code",
   "execution_count": 41,
   "id": "c70b7b94",
   "metadata": {},
   "outputs": [
    {
     "data": {
      "text/plain": [
       "array([[-4, -5, -6],\n",
       "       [-2, -1, -9],\n",
       "       [ 0, -2, -8]])"
      ]
     },
     "execution_count": 41,
     "metadata": {},
     "output_type": "execute_result"
    }
   ],
   "source": [
    "-1 * M1"
   ]
  },
  {
   "cell_type": "markdown",
   "id": "b26bc4c8",
   "metadata": {},
   "source": [
    "# Multiplcation of matrix"
   ]
  },
  {
   "cell_type": "code",
   "execution_count": 42,
   "id": "b0751948",
   "metadata": {},
   "outputs": [
    {
     "data": {
      "text/plain": [
       "(array([[4, 5, 6],\n",
       "        [2, 1, 9],\n",
       "        [0, 2, 8]]),\n",
       " array([[2, 5, 7],\n",
       "        [0, 8, 7],\n",
       "        [6, 4, 3]]))"
      ]
     },
     "execution_count": 42,
     "metadata": {},
     "output_type": "execute_result"
    }
   ],
   "source": [
    "M1 , M2"
   ]
  },
  {
   "cell_type": "code",
   "execution_count": 43,
   "id": "a5d34997",
   "metadata": {},
   "outputs": [
    {
     "data": {
      "text/plain": [
       "array([[ 8, 25, 42],\n",
       "       [ 0,  8, 63],\n",
       "       [ 0,  8, 24]])"
      ]
     },
     "execution_count": 43,
     "metadata": {},
     "output_type": "execute_result"
    }
   ],
   "source": [
    " M1 * M2"
   ]
  },
  {
   "cell_type": "code",
   "execution_count": 44,
   "id": "94a35717",
   "metadata": {},
   "outputs": [
    {
     "data": {
      "text/plain": [
       "array([[44, 84, 81],\n",
       "       [58, 54, 48],\n",
       "       [48, 48, 38]])"
      ]
     },
     "execution_count": 44,
     "metadata": {},
     "output_type": "execute_result"
    }
   ],
   "source": [
    "M1 @ M2"
   ]
  },
  {
   "cell_type": "code",
   "execution_count": 45,
   "id": "c474a1db",
   "metadata": {},
   "outputs": [
    {
     "data": {
      "text/plain": [
       "array([[ 18,  29, 113],\n",
       "       [ 16,  22, 128],\n",
       "       [ 32,  40,  96]])"
      ]
     },
     "execution_count": 45,
     "metadata": {},
     "output_type": "execute_result"
    }
   ],
   "source": [
    "M2 @ M1"
   ]
  },
  {
   "cell_type": "code",
   "execution_count": 46,
   "id": "329c2f9b",
   "metadata": {},
   "outputs": [
    {
     "data": {
      "text/plain": [
       "array([[12, 20, 26],\n",
       "       [ 4, 18, 32],\n",
       "       [12, 12, 22]])"
      ]
     },
     "execution_count": 46,
     "metadata": {},
     "output_type": "execute_result"
    }
   ],
   "source": [
    "M3"
   ]
  },
  {
   "cell_type": "code",
   "execution_count": 47,
   "id": "3b7a62f2",
   "metadata": {},
   "outputs": [
    {
     "data": {
      "text/plain": [
       "(array([[1836, 3364, 5614],\n",
       "        [1488, 2708, 4292],\n",
       "        [1224, 2280, 3620]]),\n",
       " array([[1836, 3364, 5614],\n",
       "        [1488, 2708, 4292],\n",
       "        [1224, 2280, 3620]]))"
      ]
     },
     "execution_count": 47,
     "metadata": {},
     "output_type": "execute_result"
    }
   ],
   "source": [
    "M1 @ (M2 @ M3) , (M1 @ M2) @ M3"
   ]
  },
  {
   "cell_type": "code",
   "execution_count": 48,
   "id": "742d28c5",
   "metadata": {},
   "outputs": [
    {
     "data": {
      "text/plain": [
       "array([[184, 326, 477],\n",
       "       [194, 220, 330],\n",
       "       [152, 180, 278]])"
      ]
     },
     "execution_count": 48,
     "metadata": {},
     "output_type": "execute_result"
    }
   ],
   "source": [
    "M1 @ (M2 + M3) "
   ]
  },
  {
   "cell_type": "code",
   "execution_count": 49,
   "id": "58ad3159",
   "metadata": {},
   "outputs": [
    {
     "data": {
      "text/plain": [
       "array([[184, 326, 477],\n",
       "       [194, 220, 330],\n",
       "       [152, 180, 278]])"
      ]
     },
     "execution_count": 49,
     "metadata": {},
     "output_type": "execute_result"
    }
   ],
   "source": [
    "(M1 @ M2) + (M1 @ M3)"
   ]
  },
  {
   "cell_type": "code",
   "execution_count": 50,
   "id": "7be0f415",
   "metadata": {},
   "outputs": [
    {
     "data": {
      "text/plain": [
       "array([[268, 456, 762],\n",
       "       [252, 394, 692],\n",
       "       [228, 360, 590]])"
      ]
     },
     "execution_count": 50,
     "metadata": {},
     "output_type": "execute_result"
    }
   ],
   "source": [
    "(M1 + M2) @ M3 "
   ]
  },
  {
   "cell_type": "code",
   "execution_count": 51,
   "id": "84fda4db",
   "metadata": {},
   "outputs": [
    {
     "data": {
      "text/plain": [
       "array([[268, 456, 762],\n",
       "       [252, 394, 692],\n",
       "       [228, 360, 590]])"
      ]
     },
     "execution_count": 51,
     "metadata": {},
     "output_type": "execute_result"
    }
   ],
   "source": [
    "(M1 @ M3) +( M2 @ M3)"
   ]
  },
  {
   "cell_type": "code",
   "execution_count": 52,
   "id": "4f10fe96",
   "metadata": {},
   "outputs": [
    {
     "data": {
      "text/plain": [
       "array([[44, 84, 81],\n",
       "       [58, 54, 48],\n",
       "       [48, 48, 38]])"
      ]
     },
     "execution_count": 52,
     "metadata": {},
     "output_type": "execute_result"
    }
   ],
   "source": [
    "np.matmul(M1 , M2)"
   ]
  },
  {
   "cell_type": "markdown",
   "id": "622ac4ed",
   "metadata": {},
   "source": [
    "# transpose"
   ]
  },
  {
   "cell_type": "code",
   "execution_count": 53,
   "id": "18dfd2c4",
   "metadata": {},
   "outputs": [
    {
     "data": {
      "text/plain": [
       "array([[4, 2, 0],\n",
       "       [5, 1, 2],\n",
       "       [6, 9, 8]])"
      ]
     },
     "execution_count": 53,
     "metadata": {},
     "output_type": "execute_result"
    }
   ],
   "source": [
    "M1.T"
   ]
  },
  {
   "cell_type": "code",
   "execution_count": 54,
   "id": "7f2f7d69",
   "metadata": {},
   "outputs": [
    {
     "data": {
      "text/plain": [
       "array([[4, 5, 6],\n",
       "       [2, 1, 9],\n",
       "       [0, 2, 8]])"
      ]
     },
     "execution_count": 54,
     "metadata": {},
     "output_type": "execute_result"
    }
   ],
   "source": [
    "M1"
   ]
  },
  {
   "cell_type": "code",
   "execution_count": 55,
   "id": "c37db47c",
   "metadata": {},
   "outputs": [
    {
     "data": {
      "text/plain": [
       "array([[4, 2, 0],\n",
       "       [5, 1, 2],\n",
       "       [6, 9, 8]])"
      ]
     },
     "execution_count": 55,
     "metadata": {},
     "output_type": "execute_result"
    }
   ],
   "source": [
    "np.transpose(M1)"
   ]
  },
  {
   "cell_type": "code",
   "execution_count": 56,
   "id": "aed347ea",
   "metadata": {},
   "outputs": [
    {
     "name": "stdin",
     "output_type": "stream",
     "text": [
      "Enter the rows 2\n",
      "Enter the col 6\n"
     ]
    },
    {
     "name": "stdout",
     "output_type": "stream",
     "text": [
      "[0 0 0 0 0 0 0 0 0 0 0 0]\n"
     ]
    },
    {
     "name": "stdin",
     "output_type": "stream",
     "text": [
      "Enter the value 8\n",
      "Enter the value 6\n",
      "Enter the value 7\n",
      "Enter the value 8\n",
      "Enter the value 9\n",
      "Enter the value 4\n",
      "Enter the value 4\n",
      "Enter the value 8\n",
      "Enter the value 9\n",
      "Enter the value 7\n",
      "Enter the value 0\n",
      "Enter the value 3\n"
     ]
    },
    {
     "name": "stdout",
     "output_type": "stream",
     "text": [
      "matrix:\n",
      " [[8 6 7 8 9 4]\n",
      " [4 8 9 7 0 3]]\n",
      "Transpose:\n",
      " [[8 4]\n",
      " [6 8]\n",
      " [7 9]\n",
      " [8 7]\n",
      " [9 0]\n",
      " [4 3]]\n"
     ]
    }
   ],
   "source": [
    "import numpy as np\n",
    "rows = int(input(\"Enter the rows\"))\n",
    "cols = int(input(\"Enter the col\"))\n",
    "mat = np.zeros(rows * cols, dtype=np.int16)\n",
    "print(mat)\n",
    "for i in range(len(mat)):\n",
    "        mat[i]=int(input(\"Enter the value\"))\n",
    "\n",
    "mat = mat.reshape(rows,cols)\n",
    "print('matrix:\\n',mat)\n",
    "print('Transpose:\\n',mat.T)"
   ]
  },
  {
   "cell_type": "code",
   "execution_count": 57,
   "id": "ce6000a8-7672-46c1-9d25-f5fa423dcabc",
   "metadata": {},
   "outputs": [
    {
     "data": {
      "text/plain": [
       "array([[3, 4],\n",
       "       [2, 8],\n",
       "       [1, 9]])"
      ]
     },
     "execution_count": 57,
     "metadata": {},
     "output_type": "execute_result"
    }
   ],
   "source": [
    "M=np.array([[3,4],[2,8],[1,9]])\n",
    "M"
   ]
  },
  {
   "cell_type": "code",
   "execution_count": 58,
   "id": "72226036",
   "metadata": {},
   "outputs": [
    {
     "data": {
      "text/plain": [
       "array([[3, 4],\n",
       "       [2, 8],\n",
       "       [1, 9]])"
      ]
     },
     "execution_count": 58,
     "metadata": {},
     "output_type": "execute_result"
    }
   ],
   "source": [
    "M.T.T"
   ]
  },
  {
   "cell_type": "code",
   "execution_count": 59,
   "id": "71142e11",
   "metadata": {},
   "outputs": [
    {
     "data": {
      "text/plain": [
       "array([[4, 5, 6],\n",
       "       [2, 1, 9],\n",
       "       [0, 2, 8]])"
      ]
     },
     "execution_count": 59,
     "metadata": {},
     "output_type": "execute_result"
    }
   ],
   "source": [
    "M1=np.array([[4,5,6],[2,1,9],[0,2,8]])\n",
    "M1"
   ]
  },
  {
   "cell_type": "code",
   "execution_count": 60,
   "id": "2e1e374f",
   "metadata": {},
   "outputs": [
    {
     "ename": "ValueError",
     "evalue": "matmul: Input operand 1 has a mismatch in its core dimension 0, with gufunc signature (n?,k),(k,m?)->(n?,m?) (size 3 is different from 2)",
     "output_type": "error",
     "traceback": [
      "\u001b[1;31m---------------------------------------------------------------------------\u001b[0m",
      "\u001b[1;31mValueError\u001b[0m                                Traceback (most recent call last)",
      "Cell \u001b[1;32mIn[60], line 1\u001b[0m\n\u001b[1;32m----> 1\u001b[0m (M \u001b[38;5;241m@\u001b[39m M1)\u001b[38;5;241m.\u001b[39mT,   M1\u001b[38;5;241m.\u001b[39mT \u001b[38;5;241m@\u001b[39m M\u001b[38;5;241m.\u001b[39mT\n",
      "\u001b[1;31mValueError\u001b[0m: matmul: Input operand 1 has a mismatch in its core dimension 0, with gufunc signature (n?,k),(k,m?)->(n?,m?) (size 3 is different from 2)"
     ]
    }
   ],
   "source": [
    "(M @ M1).T,   M1.T @ M.T"
   ]
  },
  {
   "cell_type": "code",
   "execution_count": 63,
   "id": "12abcc87",
   "metadata": {},
   "outputs": [
    {
     "data": {
      "text/plain": [
       "array([[2, 5, 7],\n",
       "       [0, 8, 7],\n",
       "       [6, 4, 3]])"
      ]
     },
     "execution_count": 63,
     "metadata": {},
     "output_type": "execute_result"
    }
   ],
   "source": [
    "M1=np.array([[4,5,6],[2,1,9],[0,2,8]])\n",
    "M2=np.array([[2,5,7],[0,8,7],[6,4,3]])\n",
    "M1\n",
    "M2"
   ]
  },
  {
   "cell_type": "code",
   "execution_count": 62,
   "id": "7d482c03",
   "metadata": {},
   "outputs": [
    {
     "data": {
      "text/plain": [
       "(array([[44, 58, 48],\n",
       "        [84, 54, 48],\n",
       "        [81, 48, 38]]),\n",
       " array([[44, 58, 48],\n",
       "        [84, 54, 48],\n",
       "        [81, 48, 38]]))"
      ]
     },
     "execution_count": 62,
     "metadata": {},
     "output_type": "execute_result"
    }
   ],
   "source": [
    "(M1 @ M2).T,   M2.T @ M1.T"
   ]
  },
  {
   "cell_type": "markdown",
   "id": "79db83f5",
   "metadata": {},
   "source": [
    "# TRACE OF THR MATRIX"
   ]
  },
  {
   "cell_type": "code",
   "execution_count": 64,
   "id": "023e06b1",
   "metadata": {},
   "outputs": [
    {
     "data": {
      "text/plain": [
       "array([[4, 5, 6],\n",
       "       [2, 1, 9],\n",
       "       [0, 2, 8]])"
      ]
     },
     "execution_count": 64,
     "metadata": {},
     "output_type": "execute_result"
    }
   ],
   "source": [
    "M1"
   ]
  },
  {
   "cell_type": "code",
   "execution_count": 67,
   "id": "b170fea9",
   "metadata": {},
   "outputs": [],
   "source": [
    "add=0\n",
    "rn=0\n",
    "for row in M1:\n",
    "    add = add + row[rn]\n",
    "    rn+=1"
   ]
  },
  {
   "cell_type": "code",
   "execution_count": 68,
   "id": "c40d3a2c",
   "metadata": {},
   "outputs": [
    {
     "data": {
      "text/plain": [
       "13"
      ]
     },
     "execution_count": 68,
     "metadata": {},
     "output_type": "execute_result"
    }
   ],
   "source": [
    "add"
   ]
  },
  {
   "cell_type": "code",
   "execution_count": 69,
   "id": "5d29c440",
   "metadata": {},
   "outputs": [
    {
     "data": {
      "text/plain": [
       "13"
      ]
     },
     "execution_count": 69,
     "metadata": {},
     "output_type": "execute_result"
    }
   ],
   "source": [
    "np.trace(M1)"
   ]
  },
  {
   "cell_type": "code",
   "execution_count": 70,
   "id": "d58a4c43",
   "metadata": {},
   "outputs": [
    {
     "data": {
      "text/plain": [
       "array([[3, 4, 8, 0],\n",
       "       [2, 8, 1, 3],\n",
       "       [1, 9, 5, 6]])"
      ]
     },
     "execution_count": 70,
     "metadata": {},
     "output_type": "execute_result"
    }
   ],
   "source": [
    "M3=np.array([[3,4,8,0],[2,8,1,3],[1,9,5,6]]) \n",
    "M3"
   ]
  },
  {
   "cell_type": "code",
   "execution_count": 71,
   "id": "1f3a7d62",
   "metadata": {},
   "outputs": [
    {
     "data": {
      "text/plain": [
       "16"
      ]
     },
     "execution_count": 71,
     "metadata": {},
     "output_type": "execute_result"
    }
   ],
   "source": [
    "np.trace(M3)"
   ]
  },
  {
   "cell_type": "code",
   "execution_count": 72,
   "id": "f781208b",
   "metadata": {},
   "outputs": [
    {
     "data": {
      "text/plain": [
       "(136, 136)"
      ]
     },
     "execution_count": 72,
     "metadata": {},
     "output_type": "execute_result"
    }
   ],
   "source": [
    "np.trace(M1 @ M2) , np.trace(M2 @ M1) "
   ]
  },
  {
   "cell_type": "code",
   "execution_count": 73,
   "id": "52ad234b",
   "metadata": {},
   "outputs": [
    {
     "data": {
      "text/plain": [
       "(13, 13)"
      ]
     },
     "execution_count": 73,
     "metadata": {},
     "output_type": "execute_result"
    }
   ],
   "source": [
    "np.trace(M1 ) , np.trace( M1 .T) "
   ]
  },
  {
   "cell_type": "code",
   "execution_count": 74,
   "id": "2e0f5a60",
   "metadata": {},
   "outputs": [
    {
     "data": {
      "text/plain": [
       "(26, 26)"
      ]
     },
     "execution_count": 74,
     "metadata": {},
     "output_type": "execute_result"
    }
   ],
   "source": [
    "2 * np.trace(M1)  , np.trace(2 * M1)"
   ]
  },
  {
   "cell_type": "code",
   "execution_count": 75,
   "id": "a78f525b",
   "metadata": {},
   "outputs": [
    {
     "data": {
      "text/plain": [
       "(26, 26)"
      ]
     },
     "execution_count": 75,
     "metadata": {},
     "output_type": "execute_result"
    }
   ],
   "source": [
    "np.trace (M1 + M2)   ,  np.trace(M1) + np.trace(M2)"
   ]
  },
  {
   "cell_type": "markdown",
   "id": "aa43ce43",
   "metadata": {},
   "source": [
    "# Determinant of matrix"
   ]
  },
  {
   "cell_type": "code",
   "execution_count": 76,
   "id": "0f3c4326",
   "metadata": {},
   "outputs": [
    {
     "data": {
      "text/plain": [
       "array([[4, 5, 6],\n",
       "       [2, 1, 9],\n",
       "       [0, 2, 8]])"
      ]
     },
     "execution_count": 76,
     "metadata": {},
     "output_type": "execute_result"
    }
   ],
   "source": [
    "M1"
   ]
  },
  {
   "cell_type": "code",
   "execution_count": 77,
   "id": "2ca2a5cf",
   "metadata": {},
   "outputs": [
    {
     "data": {
      "text/plain": [
       "-95.99999999999999"
      ]
     },
     "execution_count": 77,
     "metadata": {},
     "output_type": "execute_result"
    }
   ],
   "source": [
    "np.linalg.det(M1)  #linalg = linear algebra"
   ]
  },
  {
   "cell_type": "code",
   "execution_count": 78,
   "id": "3ec8bade",
   "metadata": {},
   "outputs": [
    {
     "data": {
      "text/plain": [
       "-133.99999999999997"
      ]
     },
     "execution_count": 78,
     "metadata": {},
     "output_type": "execute_result"
    }
   ],
   "source": [
    "np.linalg.det(M2)"
   ]
  },
  {
   "cell_type": "markdown",
   "id": "7327faf9-719d-4112-b00c-36d7ca5ab5a9",
   "metadata": {},
   "source": [
    "## Inverse of the matrix"
   ]
  },
  {
   "cell_type": "code",
   "execution_count": 79,
   "id": "16823ae2-7a7d-41f3-a092-2379007261ca",
   "metadata": {},
   "outputs": [
    {
     "data": {
      "text/plain": [
       "array([[4, 5, 6],\n",
       "       [2, 1, 9],\n",
       "       [0, 2, 8]])"
      ]
     },
     "execution_count": 79,
     "metadata": {},
     "output_type": "execute_result"
    }
   ],
   "source": [
    "M1"
   ]
  },
  {
   "cell_type": "code",
   "execution_count": 80,
   "id": "6f0cd7a2-751b-43c2-ae1d-21f52ca74729",
   "metadata": {},
   "outputs": [
    {
     "data": {
      "text/plain": [
       "array([[ 0.10416667,  0.29166667, -0.40625   ],\n",
       "       [ 0.16666667, -0.33333333,  0.25      ],\n",
       "       [-0.04166667,  0.08333333,  0.0625    ]])"
      ]
     },
     "execution_count": 80,
     "metadata": {},
     "output_type": "execute_result"
    }
   ],
   "source": [
    "np.linalg.inv(M1)"
   ]
  },
  {
   "cell_type": "code",
   "execution_count": 81,
   "id": "05c381d5-4251-49dc-a8ee-47b62f727ea1",
   "metadata": {},
   "outputs": [
    {
     "data": {
      "text/plain": [
       "array([[1, 2],\n",
       "       [2, 4]])"
      ]
     },
     "execution_count": 81,
     "metadata": {},
     "output_type": "execute_result"
    }
   ],
   "source": [
    "M4 = np.array([[1,2],[2,4]])\n",
    "M4"
   ]
  },
  {
   "cell_type": "code",
   "execution_count": 83,
   "id": "a892c9f0-3d83-4059-bd1c-b4b9b8f818d4",
   "metadata": {},
   "outputs": [
    {
     "data": {
      "text/plain": [
       "1"
      ]
     },
     "execution_count": 83,
     "metadata": {},
     "output_type": "execute_result"
    }
   ],
   "source": [
    "np.linalg.matrix_rank(M4)"
   ]
  },
  {
   "cell_type": "code",
   "execution_count": 85,
   "id": "0128aace-dbdd-48b0-a00d-f74a07cad7c0",
   "metadata": {},
   "outputs": [
    {
     "data": {
      "text/plain": [
       "2"
      ]
     },
     "execution_count": 85,
     "metadata": {},
     "output_type": "execute_result"
    }
   ],
   "source": [
    "M5 = np.array([[1,2],[3,4]])\n",
    "np.linalg.matrix_rank(M5)"
   ]
  },
  {
   "cell_type": "code",
   "execution_count": 86,
   "id": "cc96733a-1181-49d9-b9b9-3bcba7994cf8",
   "metadata": {},
   "outputs": [
    {
     "data": {
      "text/plain": [
       "array([[1, 2],\n",
       "       [3, 4]])"
      ]
     },
     "execution_count": 86,
     "metadata": {},
     "output_type": "execute_result"
    }
   ],
   "source": [
    "M5"
   ]
  },
  {
   "cell_type": "code",
   "execution_count": 88,
   "id": "b986fba3-8b0e-44e3-8096-5c98595e82bd",
   "metadata": {},
   "outputs": [
    {
     "data": {
      "text/plain": [
       "1"
      ]
     },
     "execution_count": 88,
     "metadata": {},
     "output_type": "execute_result"
    }
   ],
   "source": [
    "M4 = np.array([[1,2,3],[2,4,6],[1.5,3.0,4.5]])\n",
    "np.linalg.matrix_rank(M4)"
   ]
  },
  {
   "cell_type": "code",
   "execution_count": 89,
   "id": "1d634e17-9f54-4225-b378-c7d3d2fb0558",
   "metadata": {},
   "outputs": [
    {
     "data": {
      "text/plain": [
       "array([[1. , 2. , 3. ],\n",
       "       [2. , 4. , 6. ],\n",
       "       [1.5, 3. , 4.5]])"
      ]
     },
     "execution_count": 89,
     "metadata": {},
     "output_type": "execute_result"
    }
   ],
   "source": [
    "M4"
   ]
  },
  {
   "cell_type": "code",
   "execution_count": 90,
   "id": "1a823f66-ab36-47ee-a2a1-b89776a89b51",
   "metadata": {},
   "outputs": [
    {
     "data": {
      "text/plain": [
       "2"
      ]
     },
     "execution_count": 90,
     "metadata": {},
     "output_type": "execute_result"
    }
   ],
   "source": [
    "M4 = np.array([[1,2,3],[2,4,6],[7,8,9]])\n",
    "np.linalg.matrix_rank(M4)"
   ]
  },
  {
   "cell_type": "code",
   "execution_count": 91,
   "id": "1271054a-b334-4470-8f8b-520d003505dd",
   "metadata": {},
   "outputs": [
    {
     "data": {
      "text/plain": [
       "array([1, 2, 3])"
      ]
     },
     "execution_count": 91,
     "metadata": {},
     "output_type": "execute_result"
    }
   ],
   "source": [
    "M4[0]"
   ]
  },
  {
   "cell_type": "code",
   "execution_count": 92,
   "id": "8acad53f-5ddc-49c1-9a06-cf22d0234bfa",
   "metadata": {},
   "outputs": [
    {
     "data": {
      "text/plain": [
       "array([2, 4, 6])"
      ]
     },
     "execution_count": 92,
     "metadata": {},
     "output_type": "execute_result"
    }
   ],
   "source": [
    "M4[0]*2"
   ]
  },
  {
   "cell_type": "code",
   "execution_count": 93,
   "id": "2d582e6a-2437-4a7e-b454-02f62d33f457",
   "metadata": {},
   "outputs": [
    {
     "data": {
      "text/plain": [
       "array([1.5, 3. , 4.5])"
      ]
     },
     "execution_count": 93,
     "metadata": {},
     "output_type": "execute_result"
    }
   ],
   "source": [
    "M4[0] * 1.5"
   ]
  },
  {
   "cell_type": "markdown",
   "id": "2a1fbcd6-e86f-4f80-ba63-a6855019a4d6",
   "metadata": {},
   "source": [
    "## row matrix"
   ]
  },
  {
   "cell_type": "code",
   "execution_count": 94,
   "id": "5f8edda3-351d-42fd-84e5-c4d3a6984343",
   "metadata": {},
   "outputs": [
    {
     "data": {
      "text/plain": [
       "array([[4, 5, 6],\n",
       "       [2, 1, 9],\n",
       "       [0, 2, 8]])"
      ]
     },
     "execution_count": 94,
     "metadata": {},
     "output_type": "execute_result"
    }
   ],
   "source": [
    "M1"
   ]
  },
  {
   "cell_type": "code",
   "execution_count": 95,
   "id": "02b92422-58c7-461d-9068-6acd73482416",
   "metadata": {},
   "outputs": [],
   "source": [
    "R = M1.reshape(1,-1)"
   ]
  },
  {
   "cell_type": "code",
   "execution_count": 96,
   "id": "eeeed724-b5af-4033-b413-585faf3eb2d7",
   "metadata": {},
   "outputs": [
    {
     "data": {
      "text/plain": [
       "array([[4, 5, 6, 2, 1, 9, 0, 2, 8]])"
      ]
     },
     "execution_count": 96,
     "metadata": {},
     "output_type": "execute_result"
    }
   ],
   "source": [
    "R"
   ]
  },
  {
   "cell_type": "markdown",
   "id": "ec1e96a3-16ac-43ff-8249-c1030b1a4d01",
   "metadata": {},
   "source": [
    "## Column matrix"
   ]
  },
  {
   "cell_type": "code",
   "execution_count": 97,
   "id": "1215197b-2c35-49cc-9e41-ddf6d53d0666",
   "metadata": {},
   "outputs": [
    {
     "data": {
      "text/plain": [
       "array([[4],\n",
       "       [5],\n",
       "       [6],\n",
       "       [2],\n",
       "       [1],\n",
       "       [9],\n",
       "       [0],\n",
       "       [2],\n",
       "       [8]])"
      ]
     },
     "execution_count": 97,
     "metadata": {},
     "output_type": "execute_result"
    }
   ],
   "source": [
    "C =M1.reshape(-1,1)\n",
    "C"
   ]
  },
  {
   "cell_type": "code",
   "execution_count": 98,
   "id": "46c42679-3b67-40f2-986c-41069b2276bf",
   "metadata": {},
   "outputs": [
    {
     "data": {
      "text/plain": [
       "(9, 1)"
      ]
     },
     "execution_count": 98,
     "metadata": {},
     "output_type": "execute_result"
    }
   ],
   "source": [
    "C.shape"
   ]
  },
  {
   "cell_type": "code",
   "execution_count": 99,
   "id": "e1407b5f-7c96-49ff-a0d7-fc95e3f9aa2e",
   "metadata": {},
   "outputs": [
    {
     "data": {
      "text/plain": [
       "array([[4, 5, 6, 2, 1, 9, 0, 2, 8]])"
      ]
     },
     "execution_count": 99,
     "metadata": {},
     "output_type": "execute_result"
    }
   ],
   "source": [
    "C.T"
   ]
  },
  {
   "cell_type": "code",
   "execution_count": 100,
   "id": "c1947527-1d0d-4e45-b262-ee01b9c16262",
   "metadata": {},
   "outputs": [
    {
     "data": {
      "text/plain": [
       "array([[4],\n",
       "       [5],\n",
       "       [6],\n",
       "       [2],\n",
       "       [1],\n",
       "       [9],\n",
       "       [0],\n",
       "       [2],\n",
       "       [8]])"
      ]
     },
     "execution_count": 100,
     "metadata": {},
     "output_type": "execute_result"
    }
   ],
   "source": [
    "R.T"
   ]
  },
  {
   "cell_type": "markdown",
   "id": "fac0dbae-d6df-45f4-b7f9-a91e1077e4fd",
   "metadata": {},
   "source": [
    "## square matrix"
   ]
  },
  {
   "cell_type": "code",
   "execution_count": 102,
   "id": "ab476bd9-4dfc-441b-b384-a4ad002f789e",
   "metadata": {},
   "outputs": [],
   "source": [
    "def isSqureMatrix(M):\n",
    "    if M.shape[0]== M.shape[1]:\n",
    "        return True\n",
    "    else:\n",
    "        return False"
   ]
  },
  {
   "cell_type": "code",
   "execution_count": 103,
   "id": "8946a960-19a0-4438-a4ee-98b2d3c0468a",
   "metadata": {},
   "outputs": [
    {
     "data": {
      "text/plain": [
       "(3, 3)"
      ]
     },
     "execution_count": 103,
     "metadata": {},
     "output_type": "execute_result"
    }
   ],
   "source": [
    "M1.shape"
   ]
  },
  {
   "cell_type": "code",
   "execution_count": 104,
   "id": "d76eda67-6330-4798-91f6-28ae6da8bc8f",
   "metadata": {},
   "outputs": [
    {
     "data": {
      "text/plain": [
       "False"
      ]
     },
     "execution_count": 104,
     "metadata": {},
     "output_type": "execute_result"
    }
   ],
   "source": [
    "isSqureMatrix(M)"
   ]
  },
  {
   "cell_type": "code",
   "execution_count": 105,
   "id": "866c416a-7f8d-4aa4-882e-8893d64cd37f",
   "metadata": {},
   "outputs": [
    {
     "data": {
      "text/plain": [
       "True"
      ]
     },
     "execution_count": 105,
     "metadata": {},
     "output_type": "execute_result"
    }
   ],
   "source": [
    "isSqureMatrix(M1)"
   ]
  },
  {
   "cell_type": "code",
   "execution_count": 107,
   "id": "d7d25949-c212-4e70-8cd4-12fec8b34dcc",
   "metadata": {},
   "outputs": [],
   "source": [
    "S = np.zeros([4,4], dtype=np.int8)\n",
    "S =S + 4"
   ]
  },
  {
   "cell_type": "code",
   "execution_count": 108,
   "id": "82756a6d-bb6c-45c8-b406-07085bd0e974",
   "metadata": {},
   "outputs": [
    {
     "data": {
      "text/plain": [
       "array([[4, 4, 4, 4],\n",
       "       [4, 4, 4, 4],\n",
       "       [4, 4, 4, 4],\n",
       "       [4, 4, 4, 4]], dtype=int8)"
      ]
     },
     "execution_count": 108,
     "metadata": {},
     "output_type": "execute_result"
    }
   ],
   "source": [
    "S"
   ]
  },
  {
   "cell_type": "markdown",
   "id": "0cafc524-b177-43b5-bc70-68f7bfb64a6a",
   "metadata": {},
   "source": [
    "## Rectangular Matrix"
   ]
  },
  {
   "cell_type": "code",
   "execution_count": 109,
   "id": "10e1d04c-4684-4bd5-82af-024880f33d70",
   "metadata": {},
   "outputs": [],
   "source": [
    "def isRectangleMatrix(M):\n",
    "    if M.shape[0] != M.shape[1]:\n",
    "        return True\n",
    "    else:\n",
    "        return False\n",
    "        "
   ]
  },
  {
   "cell_type": "code",
   "execution_count": 114,
   "id": "bb1b7e65-ddf3-45ec-acfb-ccbb23b92782",
   "metadata": {},
   "outputs": [
    {
     "data": {
      "text/plain": [
       "array([[3, 4],\n",
       "       [2, 8],\n",
       "       [1, 9]])"
      ]
     },
     "execution_count": 114,
     "metadata": {},
     "output_type": "execute_result"
    }
   ],
   "source": [
    "M"
   ]
  },
  {
   "cell_type": "code",
   "execution_count": 113,
   "id": "a2437615-d44d-4c1d-b46c-314b0dc2df59",
   "metadata": {},
   "outputs": [
    {
     "data": {
      "text/plain": [
       "2"
      ]
     },
     "execution_count": 113,
     "metadata": {},
     "output_type": "execute_result"
    }
   ],
   "source": [
    "M.shape[1]"
   ]
  },
  {
   "cell_type": "code",
   "execution_count": 112,
   "id": "38bf781c-c27d-4af7-ac61-88991a02b03e",
   "metadata": {},
   "outputs": [
    {
     "data": {
      "text/plain": [
       "3"
      ]
     },
     "execution_count": 112,
     "metadata": {},
     "output_type": "execute_result"
    }
   ],
   "source": [
    "M.shape[0] "
   ]
  },
  {
   "cell_type": "code",
   "execution_count": 110,
   "id": "4491afa8-4581-40bf-b5c8-93df654a43c7",
   "metadata": {},
   "outputs": [
    {
     "data": {
      "text/plain": [
       "False"
      ]
     },
     "execution_count": 110,
     "metadata": {},
     "output_type": "execute_result"
    }
   ],
   "source": [
    "isRectangleMatrix(M1)"
   ]
  },
  {
   "cell_type": "code",
   "execution_count": 111,
   "id": "43437875-db2d-4412-a65a-f8ef74093d11",
   "metadata": {},
   "outputs": [
    {
     "data": {
      "text/plain": [
       "True"
      ]
     },
     "execution_count": 111,
     "metadata": {},
     "output_type": "execute_result"
    }
   ],
   "source": [
    "isRectangleMatrix(M)"
   ]
  },
  {
   "cell_type": "markdown",
   "id": "ddfc0059-d192-4088-b0ee-ff458b007f1d",
   "metadata": {},
   "source": [
    "## Diagonal Matrix"
   ]
  },
  {
   "cell_type": "code",
   "execution_count": 115,
   "id": "d9dff995-011c-4d24-a0d9-09ab2ea13bf8",
   "metadata": {},
   "outputs": [
    {
     "data": {
      "text/plain": [
       "array([[4, 0, 0, 0],\n",
       "       [0, 4, 0, 0],\n",
       "       [0, 0, 4, 0],\n",
       "       [0, 0, 0, 4]], dtype=int8)"
      ]
     },
     "execution_count": 115,
     "metadata": {},
     "output_type": "execute_result"
    }
   ],
   "source": [
    "D = np.zeros([4,4], dtype=np.int8)\n",
    "for i in range(4):\n",
    "    D[i][i] = 4\n",
    "\n",
    "D"
   ]
  },
  {
   "cell_type": "code",
   "execution_count": 116,
   "id": "b3d4408e-a2ca-47a5-9d4a-bdc765c0e252",
   "metadata": {},
   "outputs": [],
   "source": [
    "def isDiagonalMatrix(M):\n",
    "    for i in range(M.shape[0]):\n",
    "        for j in range(M.shape[1]):\n",
    "            if i != j and M[i][j] !=0:\n",
    "                return False\n",
    "    return True"
   ]
  },
  {
   "cell_type": "code",
   "execution_count": 118,
   "id": "82c90027-7306-4a0b-9807-21355b8ed455",
   "metadata": {},
   "outputs": [
    {
     "data": {
      "text/plain": [
       "True"
      ]
     },
     "execution_count": 118,
     "metadata": {},
     "output_type": "execute_result"
    }
   ],
   "source": [
    "isDiagonalMatrix(D)"
   ]
  },
  {
   "cell_type": "markdown",
   "id": "2832c82b-2662-4a6e-83e7-5d2e36c22f98",
   "metadata": {},
   "source": [
    "## Identity Matrix"
   ]
  },
  {
   "cell_type": "code",
   "execution_count": 120,
   "id": "bdfafb21-d7ca-43eb-b5c9-01f713e9633b",
   "metadata": {},
   "outputs": [
    {
     "data": {
      "text/plain": [
       "array([[1, 0, 0, 0],\n",
       "       [0, 1, 0, 0],\n",
       "       [0, 0, 1, 0],\n",
       "       [0, 0, 0, 1]], dtype=int8)"
      ]
     },
     "execution_count": 120,
     "metadata": {},
     "output_type": "execute_result"
    }
   ],
   "source": [
    "I = np.zeros([4,4] ,dtype=np.int8)\n",
    "for i in range(4):\n",
    "    I[i][i] = 1\n",
    "\n",
    "I"
   ]
  },
  {
   "cell_type": "code",
   "execution_count": 121,
   "id": "9b7d27c6-0cfd-4d40-8919-ca7f0f9f824a",
   "metadata": {},
   "outputs": [
    {
     "data": {
      "text/plain": [
       "array([1, 1, 1, 1], dtype=int8)"
      ]
     },
     "execution_count": 121,
     "metadata": {},
     "output_type": "execute_result"
    }
   ],
   "source": [
    "np.diag(I)"
   ]
  },
  {
   "cell_type": "markdown",
   "id": "767fb10b-34a1-4f62-9f7e-0456591bbb60",
   "metadata": {},
   "source": [
    "## Symmetric matrix"
   ]
  },
  {
   "cell_type": "code",
   "execution_count": 122,
   "id": "1d33571e-3916-4b25-ab8e-181cf2c48aac",
   "metadata": {},
   "outputs": [
    {
     "data": {
      "text/plain": [
       "array([[2, 3, 6],\n",
       "       [3, 4, 5],\n",
       "       [6, 5, 9]])"
      ]
     },
     "execution_count": 122,
     "metadata": {},
     "output_type": "execute_result"
    }
   ],
   "source": [
    "S1 = np.array([[2,3,6],[3,4,5],[6,5,9]])\n",
    "S1"
   ]
  },
  {
   "cell_type": "code",
   "execution_count": 123,
   "id": "3c5f058b-72de-4483-b48d-46d88a3a1af5",
   "metadata": {},
   "outputs": [
    {
     "data": {
      "text/plain": [
       "9"
      ]
     },
     "execution_count": 123,
     "metadata": {},
     "output_type": "execute_result"
    }
   ],
   "source": [
    "(S1 == S1.T).sum()"
   ]
  },
  {
   "cell_type": "code",
   "execution_count": 124,
   "id": "4752de96-6091-4552-bd1f-3387f23c58dc",
   "metadata": {},
   "outputs": [
    {
     "data": {
      "text/plain": [
       "9"
      ]
     },
     "execution_count": 124,
     "metadata": {},
     "output_type": "execute_result"
    }
   ],
   "source": [
    "S1.size"
   ]
  },
  {
   "cell_type": "code",
   "execution_count": 126,
   "id": "d1135e02-737d-48ab-ae56-6ac1a8989a53",
   "metadata": {},
   "outputs": [],
   "source": [
    "def isSymmetricMatrix(M):\n",
    "    if (M== M.T).sum() == M.size:\n",
    "        return True\n",
    "    else:\n",
    "        return False"
   ]
  },
  {
   "cell_type": "code",
   "execution_count": 128,
   "id": "9796fff7-df71-497e-b799-bc2fc049e452",
   "metadata": {},
   "outputs": [
    {
     "data": {
      "text/plain": [
       "True"
      ]
     },
     "execution_count": 128,
     "metadata": {},
     "output_type": "execute_result"
    }
   ],
   "source": [
    "isSymmetricMatrix(S1)"
   ]
  },
  {
   "cell_type": "code",
   "execution_count": 129,
   "id": "906c12a2-5261-4a48-ab55-52b5563df9cd",
   "metadata": {},
   "outputs": [
    {
     "data": {
      "text/plain": [
       "False"
      ]
     },
     "execution_count": 129,
     "metadata": {},
     "output_type": "execute_result"
    }
   ],
   "source": [
    "isSymmetricMatrix(M1)"
   ]
  },
  {
   "cell_type": "markdown",
   "id": "4b6659ac-c473-48f5-ba4a-30034ededcba",
   "metadata": {},
   "source": [
    "## Skew symmetric matrix"
   ]
  },
  {
   "cell_type": "code",
   "execution_count": 130,
   "id": "19f779ec-a70c-4e3b-b29f-22ecfd7c8bf9",
   "metadata": {},
   "outputs": [
    {
     "data": {
      "text/plain": [
       "array([[ 0,  3],\n",
       "       [-3,  0]])"
      ]
     },
     "execution_count": 130,
     "metadata": {},
     "output_type": "execute_result"
    }
   ],
   "source": [
    "S2 = np.array([[0,3],[-3,0]])\n",
    "S2"
   ]
  },
  {
   "cell_type": "code",
   "execution_count": 131,
   "id": "f29a421c-06a2-41d7-9018-2b2fce5454f4",
   "metadata": {},
   "outputs": [
    {
     "data": {
      "text/plain": [
       "array([[ 0, -3],\n",
       "       [ 3,  0]])"
      ]
     },
     "execution_count": 131,
     "metadata": {},
     "output_type": "execute_result"
    }
   ],
   "source": [
    "-S2"
   ]
  },
  {
   "cell_type": "code",
   "execution_count": 132,
   "id": "4d5ca188-9696-47fe-86e9-f8eed118a9d1",
   "metadata": {},
   "outputs": [
    {
     "data": {
      "text/plain": [
       "array([[ 0, -3],\n",
       "       [ 3,  0]])"
      ]
     },
     "execution_count": 132,
     "metadata": {},
     "output_type": "execute_result"
    }
   ],
   "source": [
    "S2.T"
   ]
  },
  {
   "cell_type": "markdown",
   "id": "29e5c4c8-8161-4298-9ce1-c7ccc6ce63a0",
   "metadata": {},
   "source": [
    "## EigenVectors and EigenValues"
   ]
  },
  {
   "cell_type": "code",
   "execution_count": 133,
   "id": "bc362fa6-a034-4e16-a26b-d3178404bf7f",
   "metadata": {},
   "outputs": [
    {
     "name": "stdout",
     "output_type": "stream",
     "text": [
      "Eigenvalues:\n",
      " [-7.  6.]\n",
      "Eigenvectors:\n",
      " [[-0.9486833  -0.24253563]\n",
      " [ 0.31622777 -0.9701425 ]]\n"
     ]
    }
   ],
   "source": [
    "# Define a matrix\n",
    "A = np.array([[-6,3],[4,5]])\n",
    "\n",
    "# Calculate eigenvalues and eigenvectors\n",
    "eigenvalues, eigenvectors = np.linalg.eig(A)\n",
    "\n",
    "# Print the eigenvalues\n",
    "print(\"Eigenvalues:\\n\", eigenvalues)\n",
    "\n",
    "# print the eigenvectors (one per column)\n",
    "print(\"Eigenvectors:\\n\", eigenvectors)\n"
   ]
  },
  {
   "cell_type": "code",
   "execution_count": 134,
   "id": "c9da6802-0f83-45d6-bf5f-66bf0df691a6",
   "metadata": {},
   "outputs": [
    {
     "data": {
      "text/plain": [
       "array([[ 6.64078309, -1.45521375],\n",
       "       [-2.21359436, -5.820855  ]])"
      ]
     },
     "execution_count": 134,
     "metadata": {},
     "output_type": "execute_result"
    }
   ],
   "source": [
    "A @ eigenvectors"
   ]
  },
  {
   "cell_type": "code",
   "execution_count": 135,
   "id": "ed8b3089-b88d-4fd7-8f50-2d107f165e8b",
   "metadata": {},
   "outputs": [
    {
     "data": {
      "text/plain": [
       "array([ 6.64078309, -1.45521375])"
      ]
     },
     "execution_count": 135,
     "metadata": {},
     "output_type": "execute_result"
    }
   ],
   "source": [
    "eigenvalues * eigenvectors[0]"
   ]
  },
  {
   "cell_type": "code",
   "execution_count": null,
   "id": "f99832fb-7e7a-479c-a924-c1ae886a4611",
   "metadata": {},
   "outputs": [],
   "source": []
  }
 ],
 "metadata": {
  "kernelspec": {
   "display_name": "Python 3 (ipykernel)",
   "language": "python",
   "name": "python3"
  },
  "language_info": {
   "codemirror_mode": {
    "name": "ipython",
    "version": 3
   },
   "file_extension": ".py",
   "mimetype": "text/x-python",
   "name": "python",
   "nbconvert_exporter": "python",
   "pygments_lexer": "ipython3",
   "version": "3.11.7"
  }
 },
 "nbformat": 4,
 "nbformat_minor": 5
}
